{
  "nbformat": 4,
  "nbformat_minor": 0,
  "metadata": {
    "colab": {
      "name": "RNN-Pulmonary.ipynb",
      "provenance": [],
      "collapsed_sections": [],
      "authorship_tag": "ABX9TyPHkD4vT0N/tWV5Jiv6dXGx",
      "include_colab_link": true
    },
    "kernelspec": {
      "display_name": "Python 3",
      "name": "python3"
    },
    "language_info": {
      "name": "python"
    }
  },
  "cells": [
    {
      "cell_type": "markdown",
      "metadata": {
        "id": "view-in-github",
        "colab_type": "text"
      },
      "source": [
        "<a href=\"https://colab.research.google.com/github/tsandovalr/RNN-PulmonaryDiagnosis/blob/main/RNN_Pulmonary.ipynb\" target=\"_parent\"><img src=\"https://colab.research.google.com/assets/colab-badge.svg\" alt=\"Open In Colab\"/></a>"
      ]
    },
    {
      "cell_type": "code",
      "metadata": {
        "colab": {
          "base_uri": "https://localhost:8080/"
        },
        "id": "2lHT_nt3s4En",
        "outputId": "3cfea9e3-39f2-4434-a60d-feaf95c75aa7"
      },
      "source": [
        "import os\n",
        "import librosa\n",
        "import math \n",
        "import json\n",
        "from pprint import pprint\n",
        "from tqdm import tqdm\n",
        "DATASET_PATH = \"./RNN-DATA\"\n",
        "JSON_PATH = \"./data-prueba.json\"\n",
        "SAMPLE_RATE = 22050\n",
        "DURATION = 16 #measured by seconds \n",
        "SAMPLES_PER_TRACK = SAMPLE_RATE * DURATION\n",
        "def save_mfcc(dataset_path,json_path, n_mfcc=13,n_fft=2048,hop_length=512, num_segments=5):\n",
        "  # dictionary to store data \n",
        "  # data = {\n",
        "  #     \"mapping\" : [\"healthy\",\"COPD\"],\n",
        "  #     \"mfcc\" : [ [...], [...], [...]  ],\n",
        "  #     \"labels\" : [0,0,1],\n",
        "  # }\n",
        "\n",
        "  data = {\n",
        "      \"mapping\" : [],\n",
        "      \"mfcc\" : [],\n",
        "      \"labels\" : [],\n",
        "  }\n",
        "\n",
        "  num_samples_per_segment = int(SAMPLES_PER_TRACK / num_segments)\n",
        "  expected_n_mfcc_vectors_per_segment = math.ceil(num_samples_per_segment / hop_length)\n",
        "\n",
        "  for i, (dirpath,dirname,filenames) in (enumerate(os.walk(dataset_path))):\n",
        "    # ensure we are not at the root level\n",
        "    if (dirpath) is not dataset_path:\n",
        "      #Save the semantic label\n",
        "      dirpath_components = dirpath.split('/') # genre/healthy = [\"genre\", \"healthy\"]\n",
        "      semantic_label = dirpath_components[-1]\n",
        "      data[\"mapping\"].append(semantic_label)\n",
        "      \n",
        "      pprint(f\"Processing {semantic_label}\")\n",
        "\n",
        "      # process files for specific genre\n",
        "\n",
        "      for f in tqdm(filenames):\n",
        "        file_path = os.path.join(dirpath,f)\n",
        "        signal,sr = librosa.load(file_path, sr=SAMPLE_RATE)\n",
        "        \n",
        "        # process segments, extracting mfcc, storing data\n",
        "        for s in range(num_segments):\n",
        "          start_sample = num_samples_per_segment * s  # s= 0 -> 0\n",
        "          finish_sample = start_sample + num_samples_per_segment  # s =0 -> num_samples_per_segment\n",
        "\n",
        "\n",
        "\n",
        "          mfcc = librosa.feature.mfcc(signal[start_sample:finish_sample], \n",
        "                                      sr=sr,\n",
        "                                      n_fft= n_fft,\n",
        "                                      n_mfcc=n_mfcc,\n",
        "                                      hop_length=hop_length\n",
        "                                      )\n",
        "          mfcc = mfcc.T\n",
        "\n",
        "          #Store if expected == mfcc length\n",
        "          if(len(mfcc) == expected_n_mfcc_vectors_per_segment):\n",
        "            data[\"mfcc\"].append(mfcc.tolist())\n",
        "            data[\"labels\"].append(i-1)\n",
        "          \n",
        "  with open(json_path, \"w\") as fp:\n",
        "    json.dump(data,fp,indent=4)\n",
        "\n",
        "\n",
        "if __name__ == \"__main__\":\n",
        "    save_mfcc(DATASET_PATH, JSON_PATH, num_segments=10)"
      ],
      "execution_count": 37,
      "outputs": [
        {
          "output_type": "stream",
          "name": "stdout",
          "text": [
            "'Processing Pneumonia'\n"
          ]
        },
        {
          "output_type": "stream",
          "name": "stderr",
          "text": [
            "100%|██████████| 3/3 [00:02<00:00,  1.00it/s]\n"
          ]
        },
        {
          "output_type": "stream",
          "name": "stdout",
          "text": [
            "'Processing URTI'\n"
          ]
        },
        {
          "output_type": "stream",
          "name": "stderr",
          "text": [
            "100%|██████████| 3/3 [00:02<00:00,  1.00it/s]\n"
          ]
        },
        {
          "output_type": "stream",
          "name": "stdout",
          "text": [
            "'Processing Bronchiectasis'\n"
          ]
        },
        {
          "output_type": "stream",
          "name": "stderr",
          "text": [
            "100%|██████████| 3/3 [00:02<00:00,  1.01it/s]\n"
          ]
        },
        {
          "output_type": "stream",
          "name": "stdout",
          "text": [
            "'Processing COPD'\n"
          ]
        },
        {
          "output_type": "stream",
          "name": "stderr",
          "text": [
            "100%|██████████| 3/3 [00:02<00:00,  1.22it/s]\n"
          ]
        },
        {
          "output_type": "stream",
          "name": "stdout",
          "text": [
            "'Processing .ipynb_checkpoints'\n"
          ]
        },
        {
          "output_type": "stream",
          "name": "stderr",
          "text": [
            "0it [00:00, ?it/s]\n"
          ]
        },
        {
          "output_type": "stream",
          "name": "stdout",
          "text": [
            "'Processing Healthy'\n"
          ]
        },
        {
          "output_type": "stream",
          "name": "stderr",
          "text": [
            "100%|██████████| 3/3 [00:02<00:00,  1.01it/s]\n"
          ]
        },
        {
          "output_type": "stream",
          "name": "stdout",
          "text": [
            "'Processing Bronquilitis'\n"
          ]
        },
        {
          "output_type": "stream",
          "name": "stderr",
          "text": [
            "100%|██████████| 3/3 [00:03<00:00,  1.01s/it]\n"
          ]
        }
      ]
    },
    {
      "cell_type": "code",
      "metadata": {
        "colab": {
          "base_uri": "https://localhost:8080/",
          "height": 1000
        },
        "id": "78jnMZjhcOaF",
        "outputId": "44b5fc84-f9c6-466e-d43f-0833e2b7222f"
      },
      "source": [
        "# Libraries\n",
        "import json\n",
        "import numpy as np\n",
        "from sklearn.model_selection import train_test_split\n",
        "import tensorflow.keras as keras\n",
        "import matplotlib.pyplot as plt \n",
        "\n",
        "# CONSTANTS\n",
        "DATASET_PATH =\"./data-prueba.json\"\n",
        "\n",
        "# Load the data \n",
        "def load_data(dataset_path):\n",
        "  with open(dataset_path, \"r\") as fp:\n",
        "    data = json.load(fp)\n",
        "\n",
        "    # convert lists into numpy array\n",
        "    inputs = np.array(data[\"mfcc\"])\n",
        "    targets = np.array(data[\"labels\"])\n",
        "\n",
        "    return inputs, targets\n",
        "\n",
        "\n",
        "inputs, targets = load_data(DATASET_PATH)\n",
        "\n",
        "# Split the data into training and test \n",
        "\n",
        "x_train, x_test, y_train, y_test = train_test_split(inputs,targets, test_size=0.3)\n",
        "\n",
        "# model \n",
        "\n",
        "model = keras.Sequential([\n",
        "        keras.layers.Flatten(input_shape=(inputs.shape[1],inputs.shape[2] )) ,      \n",
        "        keras.layers.Dense(512,activation=\"relu\", kernel_regularizer=keras.regularizers.l2(0.001)),\n",
        "        keras.layers.Dropout(0.3),\n",
        "        keras.layers.Dense(256,activation=\"relu\" , kernel_regularizer=keras.regularizers.l2(0.001)),\n",
        "        keras.layers.Dropout(0.3),\n",
        "        keras.layers.Dense(64,activation=\"relu\" , kernel_regularizer=keras.regularizers.l2(0.001)),\n",
        "        keras.layers.Dropout(0.3),\n",
        "        keras.layers.Dense(10,activation=\"softmax\"),\n",
        "\n",
        "\n",
        "])\n",
        "\n",
        "def plot_history(history):\n",
        "  figs, axs= plt.subplots(2)\n",
        "\n",
        "  # accuracy subplot \n",
        "\n",
        "  axs[0].plot(history.history[\"accuracy\"], label=\"train accuracy\")\n",
        "  axs[0].plot(history.history[\"val_accuracy\"], label=\"test accuracy\")\n",
        "  axs[1].set_xlabel(\"Epoch\")\n",
        "  axs[0].set_ylabel(\"Accuracy\")\n",
        "  axs[0].legend(loc=\"lower right\")\n",
        "  axs[0].set_title('Accuracy Eval') \n",
        "\n",
        "\n",
        "\n",
        "  axs[1].plot(history.history[\"loss\"], label=\"train error\")\n",
        "  axs[1].plot(history.history[\"val_accuracy\"], label=\"test error\")\n",
        "  axs[1].set_xlabel(\"Epoch\")\n",
        "  axs[1].set_ylabel(\"Label\")\n",
        "\n",
        "  axs[1].legend(loc=\"upper right\")\n",
        "  axs[1].set_title('Error Eval') \n",
        "\n",
        "  plt.show()\n",
        "\n",
        "  # compilation \n",
        "\n",
        "optimizer = keras.optimizers.Adam(learning_rate=0.0001)\n",
        "model.compile(optimizer=optimizer, loss=\"sparse_categorical_crossentropy\", metrics=[\"accuracy\"])\n",
        "\n",
        "model.summary()\n",
        "\n",
        "history = model.fit(x_train,y_train, validation_data=(x_test,y_test), epochs=50, batch_size=32)\n",
        "\n",
        "\n",
        "plot_history(history)"
      ],
      "execution_count": 38,
      "outputs": [
        {
          "output_type": "stream",
          "name": "stdout",
          "text": [
            "Model: \"sequential_11\"\n",
            "_________________________________________________________________\n",
            " Layer (type)                Output Shape              Param #   \n",
            "=================================================================\n",
            " flatten_2 (Flatten)         (None, 897)               0         \n",
            "                                                                 \n",
            " dense_26 (Dense)            (None, 512)               459776    \n",
            "                                                                 \n",
            " dropout_15 (Dropout)        (None, 512)               0         \n",
            "                                                                 \n",
            " dense_27 (Dense)            (None, 256)               131328    \n",
            "                                                                 \n",
            " dropout_16 (Dropout)        (None, 256)               0         \n",
            "                                                                 \n",
            " dense_28 (Dense)            (None, 64)                16448     \n",
            "                                                                 \n",
            " dropout_17 (Dropout)        (None, 64)                0         \n",
            "                                                                 \n",
            " dense_29 (Dense)            (None, 10)                650       \n",
            "                                                                 \n",
            "=================================================================\n",
            "Total params: 608,202\n",
            "Trainable params: 608,202\n",
            "Non-trainable params: 0\n",
            "_________________________________________________________________\n",
            "Epoch 1/50\n",
            "4/4 [==============================] - 1s 89ms/step - loss: 312.0052 - accuracy: 0.0800 - val_loss: 123.7244 - val_accuracy: 0.1852\n",
            "Epoch 2/50\n",
            "4/4 [==============================] - 0s 27ms/step - loss: 223.8045 - accuracy: 0.0560 - val_loss: 70.0296 - val_accuracy: 0.1852\n",
            "Epoch 3/50\n",
            "4/4 [==============================] - 0s 25ms/step - loss: 156.8104 - accuracy: 0.1120 - val_loss: 51.3506 - val_accuracy: 0.1852\n",
            "Epoch 4/50\n",
            "4/4 [==============================] - 0s 30ms/step - loss: 143.5172 - accuracy: 0.1520 - val_loss: 31.5883 - val_accuracy: 0.1852\n",
            "Epoch 5/50\n",
            "4/4 [==============================] - 0s 22ms/step - loss: 109.9360 - accuracy: 0.1040 - val_loss: 22.6728 - val_accuracy: 0.1852\n",
            "Epoch 6/50\n",
            "4/4 [==============================] - 0s 26ms/step - loss: 88.2071 - accuracy: 0.1120 - val_loss: 28.5456 - val_accuracy: 0.1296\n",
            "Epoch 7/50\n",
            "4/4 [==============================] - 0s 24ms/step - loss: 80.9467 - accuracy: 0.2000 - val_loss: 39.1223 - val_accuracy: 0.1667\n",
            "Epoch 8/50\n",
            "4/4 [==============================] - 0s 20ms/step - loss: 85.8443 - accuracy: 0.1520 - val_loss: 41.9563 - val_accuracy: 0.1852\n",
            "Epoch 9/50\n",
            "4/4 [==============================] - 0s 24ms/step - loss: 68.7792 - accuracy: 0.2160 - val_loss: 42.3269 - val_accuracy: 0.1667\n",
            "Epoch 10/50\n",
            "4/4 [==============================] - 0s 21ms/step - loss: 73.2008 - accuracy: 0.1440 - val_loss: 37.7215 - val_accuracy: 0.1852\n",
            "Epoch 11/50\n",
            "4/4 [==============================] - 0s 24ms/step - loss: 59.6163 - accuracy: 0.2240 - val_loss: 29.9943 - val_accuracy: 0.1667\n",
            "Epoch 12/50\n",
            "4/4 [==============================] - 0s 22ms/step - loss: 57.9047 - accuracy: 0.2000 - val_loss: 21.7172 - val_accuracy: 0.2037\n",
            "Epoch 13/50\n",
            "4/4 [==============================] - 0s 26ms/step - loss: 55.2461 - accuracy: 0.1680 - val_loss: 16.9696 - val_accuracy: 0.1852\n",
            "Epoch 14/50\n",
            "4/4 [==============================] - 0s 22ms/step - loss: 55.2908 - accuracy: 0.1440 - val_loss: 15.4551 - val_accuracy: 0.2037\n",
            "Epoch 15/50\n",
            "4/4 [==============================] - 0s 22ms/step - loss: 52.6739 - accuracy: 0.1120 - val_loss: 14.2158 - val_accuracy: 0.1667\n",
            "Epoch 16/50\n",
            "4/4 [==============================] - 0s 22ms/step - loss: 48.3629 - accuracy: 0.1680 - val_loss: 12.7627 - val_accuracy: 0.1852\n",
            "Epoch 17/50\n",
            "4/4 [==============================] - 0s 25ms/step - loss: 44.9715 - accuracy: 0.1920 - val_loss: 11.1061 - val_accuracy: 0.1852\n",
            "Epoch 18/50\n",
            "4/4 [==============================] - 0s 26ms/step - loss: 38.8945 - accuracy: 0.2000 - val_loss: 9.5871 - val_accuracy: 0.1667\n",
            "Epoch 19/50\n",
            "4/4 [==============================] - 0s 22ms/step - loss: 45.1330 - accuracy: 0.1120 - val_loss: 8.5316 - val_accuracy: 0.1667\n",
            "Epoch 20/50\n",
            "4/4 [==============================] - 0s 27ms/step - loss: 33.3115 - accuracy: 0.2080 - val_loss: 8.0293 - val_accuracy: 0.1667\n",
            "Epoch 21/50\n",
            "4/4 [==============================] - 0s 21ms/step - loss: 38.6181 - accuracy: 0.1680 - val_loss: 7.8580 - val_accuracy: 0.1852\n",
            "Epoch 22/50\n",
            "4/4 [==============================] - 0s 20ms/step - loss: 31.3183 - accuracy: 0.2080 - val_loss: 7.8106 - val_accuracy: 0.2037\n",
            "Epoch 23/50\n",
            "4/4 [==============================] - 0s 22ms/step - loss: 30.5564 - accuracy: 0.2080 - val_loss: 7.6691 - val_accuracy: 0.2222\n",
            "Epoch 24/50\n",
            "4/4 [==============================] - 0s 21ms/step - loss: 26.7422 - accuracy: 0.2320 - val_loss: 7.1301 - val_accuracy: 0.2222\n",
            "Epoch 25/50\n",
            "4/4 [==============================] - 0s 21ms/step - loss: 30.1408 - accuracy: 0.2000 - val_loss: 6.7244 - val_accuracy: 0.1852\n",
            "Epoch 26/50\n",
            "4/4 [==============================] - 0s 29ms/step - loss: 25.3589 - accuracy: 0.2000 - val_loss: 6.2155 - val_accuracy: 0.1852\n",
            "Epoch 27/50\n",
            "4/4 [==============================] - 0s 22ms/step - loss: 30.8633 - accuracy: 0.1760 - val_loss: 6.1197 - val_accuracy: 0.2222\n",
            "Epoch 28/50\n",
            "4/4 [==============================] - 0s 26ms/step - loss: 27.4360 - accuracy: 0.1360 - val_loss: 6.0450 - val_accuracy: 0.2222\n",
            "Epoch 29/50\n",
            "4/4 [==============================] - 0s 23ms/step - loss: 19.8410 - accuracy: 0.2320 - val_loss: 5.9045 - val_accuracy: 0.2222\n",
            "Epoch 30/50\n",
            "4/4 [==============================] - 0s 31ms/step - loss: 27.0670 - accuracy: 0.1520 - val_loss: 5.8931 - val_accuracy: 0.2222\n",
            "Epoch 31/50\n",
            "4/4 [==============================] - 0s 23ms/step - loss: 20.9159 - accuracy: 0.2480 - val_loss: 5.7782 - val_accuracy: 0.2037\n",
            "Epoch 32/50\n",
            "4/4 [==============================] - 0s 21ms/step - loss: 23.3033 - accuracy: 0.2080 - val_loss: 5.6609 - val_accuracy: 0.2407\n",
            "Epoch 33/50\n",
            "4/4 [==============================] - 0s 22ms/step - loss: 17.5560 - accuracy: 0.2320 - val_loss: 5.6110 - val_accuracy: 0.1852\n",
            "Epoch 34/50\n",
            "4/4 [==============================] - 0s 26ms/step - loss: 21.4703 - accuracy: 0.2240 - val_loss: 5.6034 - val_accuracy: 0.1667\n",
            "Epoch 35/50\n",
            "4/4 [==============================] - 0s 23ms/step - loss: 23.3771 - accuracy: 0.1360 - val_loss: 5.4852 - val_accuracy: 0.1852\n",
            "Epoch 36/50\n",
            "4/4 [==============================] - 0s 28ms/step - loss: 19.2324 - accuracy: 0.1840 - val_loss: 4.9174 - val_accuracy: 0.2037\n",
            "Epoch 37/50\n",
            "4/4 [==============================] - 0s 21ms/step - loss: 16.3244 - accuracy: 0.2560 - val_loss: 4.6508 - val_accuracy: 0.2222\n",
            "Epoch 38/50\n",
            "4/4 [==============================] - 0s 22ms/step - loss: 18.9234 - accuracy: 0.2000 - val_loss: 4.6775 - val_accuracy: 0.2037\n",
            "Epoch 39/50\n",
            "4/4 [==============================] - 0s 24ms/step - loss: 18.1933 - accuracy: 0.1840 - val_loss: 4.6081 - val_accuracy: 0.1852\n",
            "Epoch 40/50\n",
            "4/4 [==============================] - 0s 21ms/step - loss: 16.8404 - accuracy: 0.2160 - val_loss: 4.2613 - val_accuracy: 0.1667\n",
            "Epoch 41/50\n",
            "4/4 [==============================] - 0s 22ms/step - loss: 18.7330 - accuracy: 0.1520 - val_loss: 3.7990 - val_accuracy: 0.1852\n",
            "Epoch 42/50\n",
            "4/4 [==============================] - 0s 21ms/step - loss: 16.4817 - accuracy: 0.2240 - val_loss: 3.4822 - val_accuracy: 0.1481\n",
            "Epoch 43/50\n",
            "4/4 [==============================] - 0s 22ms/step - loss: 16.3597 - accuracy: 0.1840 - val_loss: 3.4057 - val_accuracy: 0.1481\n",
            "Epoch 44/50\n",
            "4/4 [==============================] - 0s 22ms/step - loss: 14.7870 - accuracy: 0.2080 - val_loss: 3.5269 - val_accuracy: 0.1852\n",
            "Epoch 45/50\n",
            "4/4 [==============================] - 0s 23ms/step - loss: 16.4694 - accuracy: 0.2320 - val_loss: 3.5197 - val_accuracy: 0.1667\n",
            "Epoch 46/50\n",
            "4/4 [==============================] - 0s 28ms/step - loss: 13.3623 - accuracy: 0.2080 - val_loss: 3.4155 - val_accuracy: 0.1481\n",
            "Epoch 47/50\n",
            "4/4 [==============================] - 0s 28ms/step - loss: 12.8178 - accuracy: 0.2000 - val_loss: 3.3098 - val_accuracy: 0.1667\n",
            "Epoch 48/50\n",
            "4/4 [==============================] - 0s 24ms/step - loss: 11.0510 - accuracy: 0.2640 - val_loss: 3.2217 - val_accuracy: 0.1481\n",
            "Epoch 49/50\n",
            "4/4 [==============================] - 0s 26ms/step - loss: 13.4279 - accuracy: 0.2080 - val_loss: 3.1921 - val_accuracy: 0.1481\n",
            "Epoch 50/50\n",
            "4/4 [==============================] - 0s 21ms/step - loss: 13.7105 - accuracy: 0.1520 - val_loss: 3.1840 - val_accuracy: 0.1481\n"
          ]
        },
        {
          "output_type": "display_data",
          "data": {
            "image/png": "[encoded data removed]",
            "text/plain": [
              "<Figure size 432x288 with 2 Axes>"
            ]
          },
          "metadata": {
            "needs_background": "light"
          }
        }
      ]
    },
    {
      "cell_type": "code",
      "metadata": {
        "id": "tMPRijoHv-2p"
      },
      "source": [
        "def prepare_datasets(test_size,val_size):\n",
        "  X , y= load_data(DATASET_PATH)\n",
        "  X_train, X_test, y_train, y_test = train_test_split(X,y, test_size=test_size)\n",
        "  X_train, X_val, y_train, y_val = train_test_split(X_train, y_train, test_size=val_size)\n",
        "  \n",
        "  return X_train, X_val, X_test ,y_train, y_val, y_test\n",
        "\n"
      ],
      "execution_count": 39,
      "outputs": []
    },
    {
      "cell_type": "code",
      "metadata": {
        "id": "eySmts84wXkf"
      },
      "source": [
        "def build_model(input_shape):\n",
        "  \"\"\"Generates RNN-LSTM Model\n",
        "  :param input_shape(tuple): shape of input set\n",
        "  :return model: RNN-LSTM Model \"\"\"\n",
        "\n",
        "  model = keras.Sequential()\n",
        "\n",
        "  # 3 LSTM Layers\n",
        "\n",
        "  model.add(keras.layers.LSTM(64,input_shape=input_shape, return_sequences=True))\n",
        "  model.add(keras.layers.LSTM(64, return_sequences=True))\n",
        "  model.add(keras.layers.LSTM(64))\n",
        "\n",
        "  # dense layer\n",
        "  model.add(keras.layers.Dense(64, activation=\"relu\"))\n",
        "\n",
        "  model.add(keras.layers.Dropout(0.2))\n",
        "\n",
        "\n",
        "  #softmax output \n",
        "  model.add(keras.layers.Dense(7, activation=\"softmax\"))\n",
        "  return model"
      ],
      "execution_count": 40,
      "outputs": []
    },
    {
      "cell_type": "code",
      "metadata": {
        "colab": {
          "base_uri": "https://localhost:8080/",
          "height": 1000
        },
        "id": "h6Oa53gcwa2U",
        "outputId": "9cb7a2cb-6648-4e45-ddd8-59ff7e538e68"
      },
      "source": [
        "if __name__ == \"__main__\":\n",
        "  X_train, X_val, X_test ,y_train, y_val, y_test = prepare_datasets(0.3, 0.2)\n",
        "\n",
        "  # model \n",
        "  input_shape = (X_train.shape[1], X_train.shape[2] )\n",
        "\n",
        "  model = build_model(input_shape)\n",
        "\n",
        "  # compilation\n",
        "  optimizer = keras.optimizers.Adam(learning_rate=0.0001)\n",
        "\n",
        "  model.compile(optimizer=optimizer,loss=\"sparse_categorical_crossentropy\", metrics=[\"accuracy\"])\n",
        "  model.summary()\n",
        "  history = model.fit(X_train, y_train, validation_data=(X_val,y_val), batch_size=32, epochs=50)\n",
        "\n",
        "  # evaluate \n",
        "\n",
        "  test_error, test_accuracy = model.evaluate(X_test,y_test, verbose=1)\n",
        "\n",
        "  print(f\"Accuracy on test set is: {test_accuracy}\")\n",
        "  print(f\"Error on test set is: {test_error}\")\n",
        "\n",
        "\n",
        "  plot_history(history)\n",
        "\n",
        "\n",
        "  X = X_test[25]\n",
        "  y= y_test[25]\n",
        "  predict(model,X,y)"
      ],
      "execution_count": 45,
      "outputs": [
        {
          "output_type": "stream",
          "name": "stdout",
          "text": [
            "Model: \"sequential_16\"\n",
            "_________________________________________________________________\n",
            " Layer (type)                Output Shape              Param #   \n",
            "=================================================================\n",
            " lstm_36 (LSTM)              (None, 69, 64)            19968     \n",
            "                                                                 \n",
            " lstm_37 (LSTM)              (None, 69, 64)            33024     \n",
            "                                                                 \n",
            " lstm_38 (LSTM)              (None, 64)                33024     \n",
            "                                                                 \n",
            " dense_38 (Dense)            (None, 64)                4160      \n",
            "                                                                 \n",
            " dropout_22 (Dropout)        (None, 64)                0         \n",
            "                                                                 \n",
            " dense_39 (Dense)            (None, 7)                 455       \n",
            "                                                                 \n",
            "=================================================================\n",
            "Total params: 90,631\n",
            "Trainable params: 90,631\n",
            "Non-trainable params: 0\n",
            "_________________________________________________________________\n",
            "Epoch 1/50\n",
            "4/4 [==============================] - 7s 562ms/step - loss: 1.9418 - accuracy: 0.2000 - val_loss: 1.9349 - val_accuracy: 0.2800\n",
            "Epoch 2/50\n",
            "4/4 [==============================] - 1s 148ms/step - loss: 1.9289 - accuracy: 0.2000 - val_loss: 1.9200 - val_accuracy: 0.2800\n",
            "Epoch 3/50\n",
            "4/4 [==============================] - 1s 137ms/step - loss: 1.9185 - accuracy: 0.2300 - val_loss: 1.9084 - val_accuracy: 0.2400\n",
            "Epoch 4/50\n",
            "4/4 [==============================] - 0s 125ms/step - loss: 1.9010 - accuracy: 0.3200 - val_loss: 1.8992 - val_accuracy: 0.2800\n",
            "Epoch 5/50\n",
            "4/4 [==============================] - 1s 128ms/step - loss: 1.8884 - accuracy: 0.3100 - val_loss: 1.8914 - val_accuracy: 0.4000\n",
            "Epoch 6/50\n",
            "4/4 [==============================] - 1s 125ms/step - loss: 1.8845 - accuracy: 0.2800 - val_loss: 1.8839 - val_accuracy: 0.4000\n",
            "Epoch 7/50\n",
            "4/4 [==============================] - 1s 127ms/step - loss: 1.8771 - accuracy: 0.2900 - val_loss: 1.8778 - val_accuracy: 0.4000\n",
            "Epoch 8/50\n",
            "4/4 [==============================] - 1s 131ms/step - loss: 1.8658 - accuracy: 0.3300 - val_loss: 1.8721 - val_accuracy: 0.4000\n",
            "Epoch 9/50\n",
            "4/4 [==============================] - 1s 141ms/step - loss: 1.8654 - accuracy: 0.3100 - val_loss: 1.8681 - val_accuracy: 0.4000\n",
            "Epoch 10/50\n",
            "4/4 [==============================] - 1s 132ms/step - loss: 1.8389 - accuracy: 0.4500 - val_loss: 1.8631 - val_accuracy: 0.4000\n",
            "Epoch 11/50\n",
            "4/4 [==============================] - 1s 131ms/step - loss: 1.8413 - accuracy: 0.4100 - val_loss: 1.8587 - val_accuracy: 0.3600\n",
            "Epoch 12/50\n",
            "4/4 [==============================] - 1s 128ms/step - loss: 1.8424 - accuracy: 0.3800 - val_loss: 1.8540 - val_accuracy: 0.4000\n",
            "Epoch 13/50\n",
            "4/4 [==============================] - 1s 129ms/step - loss: 1.8314 - accuracy: 0.4500 - val_loss: 1.8477 - val_accuracy: 0.4400\n",
            "Epoch 14/50\n",
            "4/4 [==============================] - 1s 130ms/step - loss: 1.8264 - accuracy: 0.3600 - val_loss: 1.8382 - val_accuracy: 0.4800\n",
            "Epoch 15/50\n",
            "4/4 [==============================] - 1s 135ms/step - loss: 1.8074 - accuracy: 0.4300 - val_loss: 1.8275 - val_accuracy: 0.4800\n",
            "Epoch 16/50\n",
            "4/4 [==============================] - 0s 125ms/step - loss: 1.8021 - accuracy: 0.4900 - val_loss: 1.8165 - val_accuracy: 0.4800\n",
            "Epoch 17/50\n",
            "4/4 [==============================] - 1s 131ms/step - loss: 1.7892 - accuracy: 0.4500 - val_loss: 1.8061 - val_accuracy: 0.4800\n",
            "Epoch 18/50\n",
            "4/4 [==============================] - 1s 128ms/step - loss: 1.7952 - accuracy: 0.3700 - val_loss: 1.7998 - val_accuracy: 0.4800\n",
            "Epoch 19/50\n",
            "4/4 [==============================] - 1s 133ms/step - loss: 1.7793 - accuracy: 0.4600 - val_loss: 1.7962 - val_accuracy: 0.4400\n",
            "Epoch 20/50\n",
            "4/4 [==============================] - 1s 131ms/step - loss: 1.7625 - accuracy: 0.4800 - val_loss: 1.7901 - val_accuracy: 0.4400\n",
            "Epoch 21/50\n",
            "4/4 [==============================] - 1s 133ms/step - loss: 1.7402 - accuracy: 0.5300 - val_loss: 1.7757 - val_accuracy: 0.4000\n",
            "Epoch 22/50\n",
            "4/4 [==============================] - 1s 141ms/step - loss: 1.7424 - accuracy: 0.4400 - val_loss: 1.7560 - val_accuracy: 0.4000\n",
            "Epoch 23/50\n",
            "4/4 [==============================] - 1s 131ms/step - loss: 1.7387 - accuracy: 0.4300 - val_loss: 1.7474 - val_accuracy: 0.4800\n",
            "Epoch 24/50\n",
            "4/4 [==============================] - 1s 129ms/step - loss: 1.7150 - accuracy: 0.5500 - val_loss: 1.7344 - val_accuracy: 0.4800\n",
            "Epoch 25/50\n",
            "4/4 [==============================] - 1s 130ms/step - loss: 1.7006 - accuracy: 0.4600 - val_loss: 1.7246 - val_accuracy: 0.5200\n",
            "Epoch 26/50\n",
            "4/4 [==============================] - 1s 138ms/step - loss: 1.6868 - accuracy: 0.5200 - val_loss: 1.7129 - val_accuracy: 0.5200\n",
            "Epoch 27/50\n",
            "4/4 [==============================] - 1s 126ms/step - loss: 1.6665 - accuracy: 0.5600 - val_loss: 1.6983 - val_accuracy: 0.5200\n",
            "Epoch 28/50\n",
            "4/4 [==============================] - 1s 129ms/step - loss: 1.6448 - accuracy: 0.5800 - val_loss: 1.6845 - val_accuracy: 0.5600\n",
            "Epoch 29/50\n",
            "4/4 [==============================] - 1s 129ms/step - loss: 1.6178 - accuracy: 0.5400 - val_loss: 1.6642 - val_accuracy: 0.4800\n",
            "Epoch 30/50\n",
            "4/4 [==============================] - 0s 124ms/step - loss: 1.6037 - accuracy: 0.5500 - val_loss: 1.6384 - val_accuracy: 0.5200\n",
            "Epoch 31/50\n",
            "4/4 [==============================] - 1s 125ms/step - loss: 1.5969 - accuracy: 0.5500 - val_loss: 1.6102 - val_accuracy: 0.5200\n",
            "Epoch 32/50\n",
            "4/4 [==============================] - 1s 134ms/step - loss: 1.5713 - accuracy: 0.5300 - val_loss: 1.5913 - val_accuracy: 0.4800\n",
            "Epoch 33/50\n",
            "4/4 [==============================] - 1s 126ms/step - loss: 1.5467 - accuracy: 0.5700 - val_loss: 1.5596 - val_accuracy: 0.5600\n",
            "Epoch 34/50\n",
            "4/4 [==============================] - 1s 131ms/step - loss: 1.5291 - accuracy: 0.5500 - val_loss: 1.5266 - val_accuracy: 0.5600\n",
            "Epoch 35/50\n",
            "4/4 [==============================] - 1s 126ms/step - loss: 1.4969 - accuracy: 0.6000 - val_loss: 1.4955 - val_accuracy: 0.5600\n",
            "Epoch 36/50\n",
            "4/4 [==============================] - 1s 130ms/step - loss: 1.4587 - accuracy: 0.6200 - val_loss: 1.4639 - val_accuracy: 0.6000\n",
            "Epoch 37/50\n",
            "4/4 [==============================] - 1s 126ms/step - loss: 1.4175 - accuracy: 0.6300 - val_loss: 1.4275 - val_accuracy: 0.6400\n",
            "Epoch 38/50\n",
            "4/4 [==============================] - 1s 129ms/step - loss: 1.3979 - accuracy: 0.6300 - val_loss: 1.3919 - val_accuracy: 0.6400\n",
            "Epoch 39/50\n",
            "4/4 [==============================] - 1s 129ms/step - loss: 1.3540 - accuracy: 0.6600 - val_loss: 1.3674 - val_accuracy: 0.6800\n",
            "Epoch 40/50\n",
            "4/4 [==============================] - 1s 126ms/step - loss: 1.3500 - accuracy: 0.6500 - val_loss: 1.3635 - val_accuracy: 0.6000\n",
            "Epoch 41/50\n",
            "4/4 [==============================] - 1s 125ms/step - loss: 1.3353 - accuracy: 0.6300 - val_loss: 1.3168 - val_accuracy: 0.6000\n",
            "Epoch 42/50\n",
            "4/4 [==============================] - 1s 129ms/step - loss: 1.3232 - accuracy: 0.5800 - val_loss: 1.3018 - val_accuracy: 0.6000\n",
            "Epoch 43/50\n",
            "4/4 [==============================] - 1s 132ms/step - loss: 1.2996 - accuracy: 0.6000 - val_loss: 1.3161 - val_accuracy: 0.5200\n",
            "Epoch 44/50\n",
            "4/4 [==============================] - 1s 131ms/step - loss: 1.2752 - accuracy: 0.6800 - val_loss: 1.2822 - val_accuracy: 0.6000\n",
            "Epoch 45/50\n",
            "4/4 [==============================] - 1s 133ms/step - loss: 1.2157 - accuracy: 0.6600 - val_loss: 1.2384 - val_accuracy: 0.6400\n",
            "Epoch 46/50\n",
            "4/4 [==============================] - 1s 129ms/step - loss: 1.1822 - accuracy: 0.6600 - val_loss: 1.2134 - val_accuracy: 0.6400\n",
            "Epoch 47/50\n",
            "4/4 [==============================] - 1s 131ms/step - loss: 1.2047 - accuracy: 0.6600 - val_loss: 1.2149 - val_accuracy: 0.5600\n",
            "Epoch 48/50\n",
            "4/4 [==============================] - 1s 138ms/step - loss: 1.1631 - accuracy: 0.6800 - val_loss: 1.2433 - val_accuracy: 0.5200\n",
            "Epoch 49/50\n",
            "4/4 [==============================] - 1s 135ms/step - loss: 1.1578 - accuracy: 0.6900 - val_loss: 1.1414 - val_accuracy: 0.6400\n",
            "Epoch 50/50\n",
            "4/4 [==============================] - 1s 130ms/step - loss: 1.0728 - accuracy: 0.7400 - val_loss: 1.1175 - val_accuracy: 0.6400\n",
            "2/2 [==============================] - 0s 29ms/step - loss: 1.1423 - accuracy: 0.6481\n",
            "Accuracy on test set is: 0.6481481194496155\n",
            "Error on test set is: 1.1422680616378784\n"
          ]
        },
        {
          "output_type": "display_data",
          "data": {
            "image/png": "[encoded data removed]",
            "text/plain": [
              "<Figure size 432x288 with 2 Axes>"
            ]
          },
          "metadata": {
            "needs_background": "light"
          }
        },
        {
          "output_type": "stream",
          "name": "stdout",
          "text": [
            "Target: 3, predicted label: [3]\n"
          ]
        }
      ]
    }
  ]
}